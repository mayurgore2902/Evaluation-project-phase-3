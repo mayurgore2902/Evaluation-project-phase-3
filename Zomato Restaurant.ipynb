{
 "cells": [
  {
   "cell_type": "code",
   "execution_count": 1,
   "id": "b2da641e",
   "metadata": {},
   "outputs": [],
   "source": [
    "import pandas as pd\n",
    "import numpy as np\n",
    "import matplotlib.pyplot as plt\n",
    "import seaborn as sns\n",
    "%matplotlib inline\n",
    "import warnings\n",
    "warnings.filterwarnings('ignore')"
   ]
  },
  {
   "cell_type": "code",
   "execution_count": null,
   "id": "527134a9",
   "metadata": {},
   "outputs": [],
   "source": [
    "#Data Loading and Merging the data\n",
    "df1_url = 'https://github.com/dsrscientist/dataset4/blob/main/zomato.csv'\n",
    "df2_url = 'https://raw.githubusercontent.com/FlipRoboTechnologies/ML_-Datasets/main/Z_Restaurant/Country-Code.xlsx'\n",
    "df1 = pd.read_csv(df1_url,encoding='latin-1')\n",
    "df2 = pd.read_excel(df2_url)\n",
    "df1.head()"
   ]
  },
  {
   "cell_type": "code",
   "execution_count": null,
   "id": "b368e659",
   "metadata": {},
   "outputs": [],
   "source": [
    "print(df1.columns)\n",
    "\n",
    "print(df2.columns)"
   ]
  },
  {
   "cell_type": "code",
   "execution_count": null,
   "id": "3a10dcde",
   "metadata": {},
   "outputs": [],
   "source": [
    "df2.head()"
   ]
  },
  {
   "cell_type": "code",
   "execution_count": null,
   "id": "fd018d1c",
   "metadata": {},
   "outputs": [],
   "source": [
    "df_zomoto = pd.merge(df1,df2,on='Country Code',how='left')\n",
    "df_zomoto.head()"
   ]
  },
  {
   "cell_type": "markdown",
   "id": "1ee1d446",
   "metadata": {},
   "source": [
    "# Exploratory Data Analysis (EDA):"
   ]
  },
  {
   "cell_type": "code",
   "execution_count": null,
   "id": "859bdfbc",
   "metadata": {},
   "outputs": [],
   "source": [
    "df_zomoto.shape"
   ]
  },
  {
   "cell_type": "code",
   "execution_count": null,
   "id": "15d6420f",
   "metadata": {},
   "outputs": [],
   "source": [
    "df_zomoto.info()"
   ]
  },
  {
   "cell_type": "code",
   "execution_count": null,
   "id": "b6b53feb",
   "metadata": {},
   "outputs": [],
   "source": [
    "df_zomoto.describe()"
   ]
  },
  {
   "cell_type": "code",
   "execution_count": null,
   "id": "db7c4905",
   "metadata": {},
   "outputs": [],
   "source": [
    "df_zomoto.isnull().sum()"
   ]
  },
  {
   "cell_type": "code",
   "execution_count": null,
   "id": "f141b43d",
   "metadata": {},
   "outputs": [],
   "source": [
    "df_zomoto.duplicated().sum()"
   ]
  },
  {
   "cell_type": "code",
   "execution_count": null,
   "id": "d4716dc1",
   "metadata": {},
   "outputs": [],
   "source": [
    "#Distrubution of average Cost for two\n",
    "#Distplot\n",
    "\n",
    "plt.figure(figsize=(10,6))\n",
    "sns.distplot(df_zomoto['Average Cost for two'], bins=50,kde =True)\n",
    "plt.show()"
   ]
  },
  {
   "cell_type": "code",
   "execution_count": null,
   "id": "152a3972",
   "metadata": {},
   "outputs": [],
   "source": [
    "#Histplot\n",
    "plt.figure(figsize=(10,6))\n",
    "sns.histplot(df_zomoto['Average Cost for two'], bins=50,kde =True)\n",
    "plt.title('Average Cost for two')\n",
    "plt.show()"
   ]
  },
  {
   "cell_type": "code",
   "execution_count": null,
   "id": "2026d583",
   "metadata": {},
   "outputs": [],
   "source": [
    "#Correlation heatmap\n",
    "plt.figure(figsize=(10,6))\n",
    "corr = df_zomoto.select_dtypes(include=[np.number]).corr()\n",
    "sns.heatmap(corr,annot=True,cmap='coolwarm')\n",
    "plt.title('Correlation Heatmap')\n",
    "plt.show()"
   ]
  },
  {
   "cell_type": "markdown",
   "id": "c06c2999",
   "metadata": {},
   "source": [
    "As per the above heatmap , there is no significant correlation between 'Average Cost for two ' and other fatures\n",
    "\n",
    "The correlation are relatively low ,with the highest being a weak positive correlation of 0.075 with prince Range\n",
    "\n",
    "Price Range : Price range have some moderate positive correlaion with 'aggregate rating and Votes i.e 0.44 and 0.31 this suggestes that highest priced restartents tend to have better ratings and more votes\n",
    "\n",
    "aggregate rating vs votes : 0.31 aggregate rating vs Price range 0.44 price range vs votes : 0.31\n",
    "\n",
    "Country Code has a moderate negitive correlation with 'longitude'(-0.70).\n",
    "\n",
    "this likely reflects geograpical clustering of the data,where certain country codes are associated with specific longitude ranges"
   ]
  },
  {
   "cell_type": "code",
   "execution_count": null,
   "id": "e6be0e72",
   "metadata": {},
   "outputs": [],
   "source": [
    "df_zomoto.columns\n",
    "print(df_zomoto.dtypes)"
   ]
  },
  {
   "cell_type": "code",
   "execution_count": null,
   "id": "d86b1255",
   "metadata": {},
   "outputs": [],
   "source": [
    "skewness = df_zomoto.select_dtypes(include=[np.number]).skew()\n",
    "print(skewness)"
   ]
  },
  {
   "cell_type": "markdown",
   "id": "12d15f14",
   "metadata": {},
   "source": [
    "# Skewness result is :\n",
    "Restaurant ID 0.061570 Country Code 3.043965 Longitude -2.807328 Latitude -3.081635 Average Cost for two 35.477915 Price range 0.889618 Aggregate rating -0.954130 Votes 8.807637"
   ]
  },
  {
   "cell_type": "code",
   "execution_count": null,
   "id": "e00a181f",
   "metadata": {},
   "outputs": [],
   "source": [
    "from sklearn import preprocessing\n",
    "from sklearn.preprocessing import StandardScaler,PowerTransformer\n",
    "\n",
    "num_cols = ['Restaurant ID','Country Code','Longitude','Latitude','Average Cost for two','Price range','Aggregate rating','Votes']\n",
    "\n",
    "df_zomoto['Average Cost for two'] = np.log1p(df_zomoto['Average Cost for two'])\n",
    "df_zomoto['Votes'] = np.log1p(df_zomoto['Votes'])\n",
    "\n",
    "#Power transfer method\n",
    "power_transformer = PowerTransformer(method='yeo-johnson')\n",
    "df_zomoto[num_cols] = power_transformer.fit_transform(df_zomoto[num_cols])\n",
    "\n",
    "#StandardScaler\n",
    "\n",
    "scaler = StandardScaler()\n",
    "df_zomoto[num_cols] = scaler.fit_transform(df_zomoto[num_cols])"
   ]
  },
  {
   "cell_type": "code",
   "execution_count": null,
   "id": "f76c6e21",
   "metadata": {},
   "outputs": [],
   "source": [
    "df_zomoto.head()"
   ]
  },
  {
   "cell_type": "code",
   "execution_count": null,
   "id": "85b3f6d0",
   "metadata": {},
   "outputs": [],
   "source": [
    "#second time\n",
    "skewness = df_zomoto.select_dtypes(include=[np.number]).skew()\n",
    "print(skewness)"
   ]
  },
  {
   "cell_type": "code",
   "execution_count": null,
   "id": "78005abe",
   "metadata": {},
   "outputs": [],
   "source": [
    "high_skew_col = ['Country Code', 'Longitude','Latitude']\n",
    "\n",
    "for col in high_skew_col:\n",
    "  df_zomoto[col] = power_transformer.fit_transform(df_zomoto[[col]])\n",
    "\n",
    "  scaler1 = StandardScaler()\n",
    "  df_zomoto[col] = scaler1.fit_transform(df_zomoto[[col]])\n",
    "\n",
    "skewness = df_zomoto.select_dtypes(include=[np.number]).skew()\n",
    "print(skewness)"
   ]
  },
  {
   "cell_type": "markdown",
   "id": "1a487d8a",
   "metadata": {},
   "source": [
    "Before Proceeding with model deployment ,we need to encode the catagerical features into numerical values\n",
    "\n",
    "There are ⁉ Label Encoding: Assigns each unique category a different integer. This can be used when there is an ordinal relationship between categories\n",
    "\n",
    "One-Hot Encoding: Creates binary columns for each category. This is used when there is no ordinal relationship between categories\n",
    "\n",
    "we will apply the following encoding strategies: Label Encoding for columns where ordinal relationship might exist or where we have a small number of unique values One-Hot Encoding for columns with no ordinal relationship and a manageable number of unique values"
   ]
  },
  {
   "cell_type": "code",
   "execution_count": null,
   "id": "a9159948",
   "metadata": {},
   "outputs": [],
   "source": [
    "label_cols = ['Has Table booking','Has Online delivery','Is delivering now','Switch to order menu','Rating color','Rating text']\n",
    "onehot_cols = ['Country','City','Address','Locality','Locality Verbose','Cuisines','Currency','Restaurant Name']"
   ]
  },
  {
   "cell_type": "code",
   "execution_count": null,
   "id": "7188a734",
   "metadata": {},
   "outputs": [],
   "source": [
    "import pandas as pd\n",
    "from sklearn.preprocessing import LabelEncoder\n",
    "from sklearn.preprocessing import OneHotEncoder\n",
    "\n",
    "# Create a LabelEncoder object\n",
    "le_encode = LabelEncoder()\n",
    "for col in label_cols:\n",
    "  df_zomoto[col] = le_encode.fit_transform(df_zomoto[col])"
   ]
  },
  {
   "cell_type": "code",
   "execution_count": null,
   "id": "e52be51d",
   "metadata": {},
   "outputs": [],
   "source": [
    "#one hot encoder\n",
    "df_zomoto = pd.get_dummies(df_zomoto,columns=onehot_cols)\n",
    "df_zomoto.head()"
   ]
  },
  {
   "cell_type": "code",
   "execution_count": null,
   "id": "a9e7d7a2",
   "metadata": {},
   "outputs": [],
   "source": [
    "#after encoding the dataset\n",
    "df_zomoto.shape"
   ]
  },
  {
   "cell_type": "code",
   "execution_count": null,
   "id": "6df2e382",
   "metadata": {},
   "outputs": [],
   "source": [
    "df_zomoto.columns"
   ]
  },
  {
   "cell_type": "code",
   "execution_count": null,
   "id": "d3da8347",
   "metadata": {},
   "outputs": [],
   "source": [
    "#Encoding False and True Values\n",
    "boolean_col = ['Restaurant Name_feel ALIVE','Restaurant Name_hug!',\n",
    "       'Restaurant Name_iGNiTE', 'Restaurant Name_iKitchen',\n",
    "       'Restaurant Name_sketch Gallery', 'Restaurant Name_t Lounge by Dilmah',\n",
    "       'Restaurant Name_tashas', 'Restaurant Name_wagamama',\n",
    "       'Restaurant Name_{Niche} - Cafe & Bar',\n",
    "       'Restaurant Name_íˆukuraÛôa SofrasÛ±']\n",
    "for col in boolean_col:\n",
    "  df_zomoto[col] = df_zomoto[col].replace({False:0,True:1})"
   ]
  },
  {
   "cell_type": "code",
   "execution_count": null,
   "id": "ceed3d32",
   "metadata": {},
   "outputs": [],
   "source": [
    "print(df_zomoto.head())"
   ]
  },
  {
   "cell_type": "code",
   "execution_count": null,
   "id": "9d3f6711",
   "metadata": {},
   "outputs": [],
   "source": [
    "print(df_zomoto.dtypes)"
   ]
  },
  {
   "cell_type": "markdown",
   "id": "95952277",
   "metadata": {},
   "source": [
    "# Predicting average cost for two"
   ]
  },
  {
   "cell_type": "code",
   "execution_count": null,
   "id": "48754989",
   "metadata": {},
   "outputs": [],
   "source": [
    "!pip install xgboost\n",
    "!pip install nvidia-cublas-cu12==12.1.3.1\n",
    "!pip install nvidia-cuda-cupti-cu12==12.1.105\n",
    "!pip install nvidia-cuda-runtime-cu12==12.1.105\n",
    "!pip install nvidia-cudnn-cu12==8.9.2.26\n",
    "!pip install nvidia-cufft-cu12==11.0.2.54\n",
    "!pip install nvidia-curand-cu12==10.3.2.106\n",
    "!pip install nvidia-cusolver-cu12==11.4.5.107\n",
    "!pip install nvidia-cusparse-cu12==12.1.0.106\n",
    "!pip install nvidia-nvtx-cu12==12.1.105\n",
    "!pip install nvidia-nccl-cu12==2.20.5\n",
    "!pip install nvidia-nsight-cu12==2.20.5"
   ]
  },
  {
   "cell_type": "code",
   "execution_count": null,
   "id": "06d34a96",
   "metadata": {},
   "outputs": [],
   "source": [
    "from sklearn.model_selection import train_test_split\n",
    "from sklearn.linear_model import LinearRegression\n",
    "from sklearn.tree import DecisionTreeRegressor\n",
    "from sklearn.decomposition import PCA\n",
    "from sklearn.metrics import mean_squared_error,r2_score,mean_absolute_error\n",
    "from sklearn.preprocessing import LabelEncoder\n",
    "from sklearn.preprocessing import StandardScaler\n",
    "from xgboost import XGBRegressor\n",
    "from sklearn.model_selection import GridSearchCV\n",
    "#from sklearn.metrics import mean_absolute_error\n",
    "from sklearn.ensemble import RandomForestClassifier,RandomForestRegressor,GradientBoostingClassifier,GradientBoostingRegressor\n",
    "from sklearn.linear_model import LogisticRegression\n",
    "from sklearn.neighbors import KNeighborsClassifier\n",
    "from sklearn.svm import SVC\n",
    "from sklearn.tree import DecisionTreeClassifier\n",
    "from sklearn.naive_bayes import GaussianNB\n",
    "from sklearn.metrics import accuracy_score,confusion_matrix,f1_score,precision_score,recall_score,classification_report"
   ]
  },
  {
   "cell_type": "code",
   "execution_count": null,
   "id": "259dd499",
   "metadata": {},
   "outputs": [],
   "source": [
    "#feature and target variables\n",
    "features = df_zomoto.drop(['Average Cost for two','Price range'],axis=1)\n",
    "target_cost = df_zomoto['Average Cost for two']\n",
    "target_price = df_zomoto['Price range']\n",
    "\n",
    "#Train and test split\n",
    "X_train_cost,X_test_cost,y_train_cost,y_test_cost = train_test_split(features,target_cost,test_size=0.2,random_state=42)\n",
    "X_train_price,X_test_price,y_train_price,y_test_price = train_test_split(features,target_price,test_size=0.2,random_state=42)\n",
    "\n",
    "\n",
    "scaler = StandardScaler()\n",
    "X_train_cost = scaler.fit_transform(X_train_cost)\n",
    "X_test_cost = scaler.transform(X_test_cost)\n",
    "\n",
    "#applying PCA to reduce the number of features\n",
    "PCA_cost = PCA(n_components=10)\n",
    "X_train_cost = PCA_cost.fit_transform(X_train_cost)\n",
    "X_test_cost = PCA_cost.transform(X_test_cost)\n",
    "\n",
    "rf_model_cost = RandomForestRegressor(n_estimators=100,random_state=42)\n",
    "rf_model_cost.fit(X_train_cost,y_train_cost)\n",
    "y_pred_rf_cost = rf_model_cost.predict(X_test_cost)\n",
    "\n",
    "rmse_cose = mean_squared_error(y_test_cost,y_pred_rf_cost,squared=False)\n",
    "print(\"RandomForestRegressor - Root mean squared error(Cost):\",rmse_cose)\n",
    "print(\"RandomForestRegressor -Mean absolute error(Cost):\",mean_absolute_error(y_test_cost,y_pred_rf_cost))\n",
    "print(\"RandomForestRegressor -R2 score(Cost):\",r2_score(y_test_cost,y_pred_rf_cost))"
   ]
  },
  {
   "cell_type": "code",
   "execution_count": null,
   "id": "52584c04",
   "metadata": {},
   "outputs": [],
   "source": [
    "#RandomForestRegressor\n",
    "from sklearn.ensemble import RandomForestRegressor,GradientBoostingRegressor\n",
    "\n",
    "#Price range\n",
    "# Price using classifier\n",
    "X_train_price = scaler.fit_transform(X_train_price)\n",
    "X_test_price = scaler.transform(X_test_price)\n",
    "\n",
    "#applying PCA to reduce the number of features\n",
    "PCA_price = PCA(n_components=10)\n",
    "X_train_price = PCA_price.fit_transform(X_train_price)\n",
    "X_test_price = PCA_price.transform(X_test_price)\n",
    "\n",
    "\n",
    "rfr_model_price = RandomForestRegressor(n_estimators=100,random_state=42)\n",
    "rfr_model_price.fit(X_train_price,y_train_price)\n",
    "y_pred_rfr_price = rfr_model_price.predict(X_test_price)\n",
    "\n",
    "rmse_price = mean_squared_error(y_test_price,y_pred_rfr_price,squared=False)\n",
    "print(\"RandomForestRegressor- Root mean squared error(Price):\",rmse_price)\n",
    "print(\"RandomForestRegressor-Mean absolute error(Price):\",mean_absolute_error(y_test_price,y_pred_rfr_price))\n",
    "print(\"RandomForestRegressor-R2 score(Price):\",r2_score(y_test_price,y_pred_rfr_price))"
   ]
  },
  {
   "cell_type": "code",
   "execution_count": null,
   "id": "fd519b49",
   "metadata": {},
   "outputs": [],
   "source": [
    "param_grid = {\n",
    "    'n_estimators': [50, 100,150],\n",
    "    'max_depth': [3, 4, 5],\n",
    "    'min_samples_split': [2, 5, 10],\n",
    "    'min_samples_leaf': [1, 2, 4],\n",
    "    'learning_rate' : [0.01,0.1,1]\n",
    "}\n",
    "\n",
    "XGB_model_cost = XGBRegressor()\n",
    "XGB_GridSearch_cost = GridSearchCV(estimator=XGB_model_cost, param_grid=param_grid, cv=5, scoring='neg_mean_squared_error', n_jobs=-1)\n",
    "\n",
    "XGB_GridSearch_cost.fit(X_train_cost,y_train_cost)\n",
    "\n",
    "best_params = XGB_GridSearch_cost.best_params_\n",
    "print(\"Best parameters:\",best_params)\n",
    "\n",
    "best_model = XGBRegressor(**best_params)\n",
    "best_model.fit(X_train_cost,y_train_cost)\n",
    "\n",
    "y_pred_XGB_cost = best_model.predict(X_test_cost)\n",
    "\n",
    "\n",
    "rmse = mean_squared_error(y_test_cost,y_pred_XGB_cost,squared=False)\n",
    "print(\"XGBRegressor-Root mean squared error(Cost):\",rmse)\n",
    "print(\"XGBRegressor-Mean absolute error(Cost):\",mean_absolute_error(y_test_cost,y_pred_XGB_cost))\n",
    "print(\"XGBRegressor-R2 score(Cost):\",r2_score(y_test_cost,y_pred_XGB_cost))"
   ]
  },
  {
   "cell_type": "code",
   "execution_count": null,
   "id": "77b55994",
   "metadata": {},
   "outputs": [],
   "source": [
    "#Feature Engineering\n",
    "\n",
    "from sklearn.preprocessing import PolynomialFeatures\n",
    "\n",
    "ploy_cost = PolynomialFeatures(degree=2,include_bias=False)\n",
    "X_train_cost_poly = ploy_cost.fit_transform(X_train_cost)\n",
    "X_test_cost_poly = ploy_cost.transform(X_test_cost)\n",
    "\n",
    "ploy_price = PolynomialFeatures(degree=2,include_bias=False)\n",
    "X_train_price_poly = ploy_price.fit_transform(X_train_price)\n",
    "X_test_price_poly = ploy_price.transform(X_test_price)\n",
    "\n",
    "\n",
    "best_model.fit(X_train_cost_poly,y_train_cost)\n",
    "y_pred_XGB_cost = best_model.predict(X_test_cost_poly)\n",
    "\n",
    "\n",
    "rmse = mean_squared_error(y_test_cost,y_pred_XGB_cost,squared=False)\n",
    "print(\"PolynomialFeatures-Root mean squared error(Cost):\",rmse)\n",
    "print(\"PolynomialFeaturesMean - absolute error(Cost):\",mean_absolute_error(y_test_cost,y_pred_XGB_cost))\n",
    "print(\"PolynomialFeatures-R2 score(Cost):\",r2_score(y_test_cost,y_pred_XGB_cost))"
   ]
  },
  {
   "cell_type": "code",
   "execution_count": null,
   "id": "6b3b6627",
   "metadata": {},
   "outputs": [],
   "source": []
  },
  {
   "cell_type": "code",
   "execution_count": null,
   "id": "baff9614",
   "metadata": {},
   "outputs": [],
   "source": []
  }
 ],
 "metadata": {
  "kernelspec": {
   "display_name": "Python 3 (ipykernel)",
   "language": "python",
   "name": "python3"
  },
  "language_info": {
   "codemirror_mode": {
    "name": "ipython",
    "version": 3
   },
   "file_extension": ".py",
   "mimetype": "text/x-python",
   "name": "python",
   "nbconvert_exporter": "python",
   "pygments_lexer": "ipython3",
   "version": "3.9.7"
  }
 },
 "nbformat": 4,
 "nbformat_minor": 5
}
